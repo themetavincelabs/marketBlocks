{
 "cells": [
  {
   "cell_type": "markdown",
   "id": "0ee6f0ff",
   "metadata": {},
   "source": [
    "# The first step in creating \"market blocks\" which will be 800x800 blocks that represent the first page of coingecko market data"
   ]
  },
  {
   "cell_type": "code",
   "execution_count": 10,
   "id": "8e583add",
   "metadata": {},
   "outputs": [],
   "source": [
    "###IMPORT LIBRARIES###\n",
    "import matplotlib.pyplot as plt\n",
    "import numpy as np\n",
    "import json \n",
    "import requests\n",
    "import pandas as pd"
   ]
  },
  {
   "cell_type": "code",
   "execution_count": 8,
   "id": "4bbfef5b",
   "metadata": {},
   "outputs": [
    {
     "name": "stdout",
     "output_type": "stream",
     "text": [
      "              Name Symbol    Market Cap  Cumulative Market Cap  \\\n",
      "0          Bitcoin    btc  597858544640           597858544640   \n",
      "1         Ethereum    eth  233366951939           831225496579   \n",
      "2           Tether   usdt   83440852355           914666348934   \n",
      "3              BNB    bnb   37739051408           952405400342   \n",
      "4         USD Coin   usdc   27717867364           980123267706   \n",
      "..             ...    ...           ...                    ...   \n",
      "95           Huobi     ht     442814439          1189295845093   \n",
      "96        Compound   comp     434033724          1189729878817   \n",
      "97  Casper Network   cspr     433433998          1190163312815   \n",
      "98     WOO Network    woo     425126327          1190588439142   \n",
      "99         Conflux    cfx     419291228          1191007730370   \n",
      "\n",
      "                                                 Logo  Relative Market Cap %  \n",
      "0   https://assets.coingecko.com/coins/images/1/la...             100.000000  \n",
      "1   https://assets.coingecko.com/coins/images/279/...              28.075047  \n",
      "2   https://assets.coingecko.com/coins/images/325/...               9.122545  \n",
      "3   https://assets.coingecko.com/coins/images/825/...               3.962499  \n",
      "4   https://assets.coingecko.com/coins/images/6319...               2.827998  \n",
      "..                                                ...                    ...  \n",
      "95  https://assets.coingecko.com/coins/images/2822...               0.037233  \n",
      "96  https://assets.coingecko.com/coins/images/1077...               0.036482  \n",
      "97  https://assets.coingecko.com/coins/images/1527...               0.036418  \n",
      "98  https://assets.coingecko.com/coins/images/1292...               0.035707  \n",
      "99  https://assets.coingecko.com/coins/images/1307...               0.035205  \n",
      "\n",
      "[100 rows x 6 columns]\n"
     ]
    }
   ],
   "source": [
    "import pandas as pd\n",
    "\n",
    "#define a function to get the first page of CoinGeko Tokens\n",
    "\n",
    "def get_top_coins():\n",
    "    #API reference\n",
    "    url = \"https://api.coingecko.com/api/v3/coins/markets\"\n",
    "    #parameters for the API call\n",
    "    params = {\n",
    "        \"vs_currency\": \"usd\",\n",
    "        \"order\": \"market_cap_desc\",\n",
    "        \"per_page\": 100,\n",
    "        \"page\": 1,\n",
    "        \"sparkline\": False\n",
    "    }\n",
    "\n",
    "    response = requests.get(url, params=params)\n",
    "    data = response.json()\n",
    "\n",
    "    coins = []\n",
    "    cumulative_market_cap = 0\n",
    "    for coin in data:\n",
    "        coin_name = coin['name']\n",
    "        coin_symbol = coin['symbol']\n",
    "        coin_market_cap = coin['market_cap']\n",
    "        cumulative_market_cap += coin_market_cap\n",
    "        coin_logo = coin['image']\n",
    "        coins.append({\"Name\": coin_name, \"Symbol\": coin_symbol, \"Market Cap\": coin_market_cap, \"Cumulative Market Cap\": cumulative_market_cap, \"Logo\": coin_logo})\n",
    "\n",
    "    return coins\n",
    "\n",
    "top_coins = get_top_coins()\n",
    "\n",
    "df = pd.DataFrame(top_coins)\n",
    "df['Relative Market Cap %'] = (df['Market Cap'] / df['Cumulative Market Cap']) * 100\n",
    "\n",
    "## Export DataFrame to CSV file\n",
    "#df.to_csv('top_coins.csv', index=False)\n",
    "\n",
    "\n",
    "# Printing the DataFrame\n",
    "print(df)\n"
   ]
  }
 ],
 "metadata": {
  "kernelspec": {
   "display_name": "Python 3 (ipykernel)",
   "language": "python",
   "name": "python3"
  },
  "language_info": {
   "codemirror_mode": {
    "name": "ipython",
    "version": 3
   },
   "file_extension": ".py",
   "mimetype": "text/x-python",
   "name": "python",
   "nbconvert_exporter": "python",
   "pygments_lexer": "ipython3",
   "version": "3.9.13"
  }
 },
 "nbformat": 4,
 "nbformat_minor": 5
}
